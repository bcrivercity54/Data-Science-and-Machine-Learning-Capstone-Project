# Display the output
print("Exploratory Data Analysis with SQL")
